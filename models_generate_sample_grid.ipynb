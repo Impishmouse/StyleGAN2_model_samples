{
  "nbformat": 4,
  "nbformat_minor": 0,
  "metadata": {
    "colab": {
      "name": "models_generate_sample_grid",
      "provenance": [],
      "collapsed_sections": [],
      "toc_visible": true,
      "include_colab_link": true
    },
    "kernelspec": {
      "name": "python3",
      "display_name": "Python 3"
    },
    "accelerator": "GPU"
  },
  "cells": [
    {
      "cell_type": "markdown",
      "metadata": {
        "id": "view-in-github",
        "colab_type": "text"
      },
      "source": [
        "<a href=\"https://colab.research.google.com/github/Impishmouse/StyleGAN2_model_samples/blob/main/models_generate_sample_grid.ipynb\" target=\"_parent\"><img src=\"https://colab.research.google.com/assets/colab-badge.svg\" alt=\"Open In Colab\"/></a>"
      ]
    },
    {
      "cell_type": "markdown",
      "metadata": {
        "id": "AeqkH_Ft5p4w"
      },
      "source": [
        "# Generate grid 3x3 samples how .pkl trained\n"
      ]
    },
    {
      "cell_type": "code",
      "metadata": {
        "id": "b8KwDllv54v0",
        "cellView": "code"
      },
      "source": [
        "#@title Підготовка бібліотек та методів\n",
        "!git clone https://github.com/Impishmouse/stylegan2.git\n",
        "%cd stylegan2\n",
        "%tensorflow_version 1.x\n",
        "!rm -rf /content/sample_data\n",
        "!pip install typer\n",
        "\n",
        "import dnnlib\n",
        "import dnnlib.tflib as tflib\n",
        "from dnnlib.tflib import tfutil\n",
        "from dnnlib.tflib.autosummary import autosummary\n",
        "from IPython.display import Image \n",
        "import numpy as np\n",
        "import math\n",
        "from math import ceil\n",
        "import pickle\n",
        "from pathlib import Path\n",
        "import pretrained_networks\n",
        "import PIL.Image\n",
        "from training import dataset\n",
        "from training import misc\n",
        "import typer\n",
        "from typing import Optional\n",
        "from tqdm import tqdm\n",
        "import tensorflow as tf\n",
        "import sys, getopt, os\n",
        "from google.colab import files\n",
        "\n",
        "\n",
        "def createImageGrid(images, scale=0.25, rows=1):\n",
        "   w,h = images[0].size\n",
        "   w = int(w*scale)\n",
        "   h = int(h*scale)\n",
        "   height = rows*h\n",
        "   cols = ceil(len(images) / rows)\n",
        "   width = cols*w\n",
        "   canvas = PIL.Image.new('RGBA', (width,height), 'white')\n",
        "   for i,img in enumerate(images):\n",
        "     img = img.resize((w,h), PIL.Image.ANTIALIAS)\n",
        "     canvas.paste(img, (w*(i % cols), h*(i // cols))) \n",
        "   return canvas\n",
        "\n",
        "def generate_zs_from_seeds(seeds):\n",
        "    zs = []\n",
        "    for seed_idx, seed in enumerate(seeds):\n",
        "        rnd = np.random.RandomState(seed)\n",
        "        z = rnd.randn(1, *Gs.input_shape[1:]) # [minibatch, component]\n",
        "        zs.append(z)\n",
        "    return zs\n",
        "\n",
        "# Trunctation psi value needed for the truncation trick\n",
        "def generate_images(zs, truncation_psi):\n",
        "    Gs_kwargs = dnnlib.EasyDict()\n",
        "    Gs_kwargs.output_transform = dict(func=tflib.convert_images_to_uint8, nchw_to_nhwc=True)\n",
        "    Gs_kwargs.randomize_noise = False\n",
        "    if not isinstance(truncation_psi, list):\n",
        "        truncation_psi = [truncation_psi] * len(zs)\n",
        "        \n",
        "    imgs = []\n",
        "    for z_idx, z in tqdm(enumerate(zs)):\n",
        "        Gs_kwargs.truncation_psi = truncation_psi[z_idx]\n",
        "        noise_rnd = np.random.RandomState(1) # fix noise\n",
        "        tflib.set_vars({var: noise_rnd.randn(*var.shape.as_list()) for var in noise_vars}) # [height, width]\n",
        "        images = Gs.run(z, None, **Gs_kwargs) # [minibatch, height, width, channel]\n",
        "        imgs.append(PIL.Image.fromarray(images[0], 'RGB'))\n",
        "        \n",
        "    # Return array of PIL.Image\n",
        "    return imgs\n",
        "\n",
        "def generate_images_from_seeds(seeds, truncation_psi):\n",
        "    return generate_images(generate_zs_from_seeds(seeds), truncation_psi)\n",
        "\n",
        "\n",
        "# TODO  later remove connect to drive /  use drive links to download model\n",
        "# mound google drive with models\n",
        "from google.colab import drive\n",
        "drive.mount('/content/drive')\n",
        "\n",
        "# Upload unzip and set default networks\n",
        "if os.path.isdir ('/content/stylegan2/trainedNetworks') == False:\n",
        "  !mkdir /content/stylegan2/trainedNetworks\n",
        "!gdown --id 1vQM_9_-x90t_v5hokf45LTxPD19u0nv0\n",
        "!unzip -u /content/stylegan2/default_networks.zip -d /content/stylegan2/trainedNetworks/\n",
        "!rm /content/stylegan2/default_networks.zip\n",
        "\n",
        "print(\"Finish!\")\n"
      ],
      "execution_count": null,
      "outputs": []
    },
    {
      "cell_type": "code",
      "metadata": {
        "id": "zlRNUSElZ7sf",
        "cellView": "code",
        "outputId": "b2d418f3-ee90-4ab8-ba52-282204e6de73",
        "colab": {
          "base_uri": "https://localhost:8080/"
        }
      },
      "source": [
        "#@title Обрерить назву мережі з якої будемо робити приклади\n",
        "create_one = True #@param {type:\"boolean\"}\n",
        "net_name = \"toony_b_paint_64_1024\" #@param [\"ukiyoe_256\", \"ffhq_e_256\", \"cat_f_256\", \"panda_256\", \"anime_512\", \"CartoonsAligned_1_512\", \"fursona_512\",\"toony_b_paint_64_1024\", \"ffhq_e_104\", \"metFaces_1024\", \"wiki_art_1_1024\", \"wiki_art_2_1024\", \"comics_monsters_1024\", \"baby_1024\", \"aBeauty_1024\", \"asian_1024\", \"ffhq_f_1024\", \"ffhq_b_cartoon_64_1024\", \"CartoonsAligned_36v2_1024\", \"CartoonsAligned_84v3_1024\", \"ChSt_1_1024\", \"ada_aquapaint_flowers\", \"ada_friends_hq\", \"WoW_Faces_1024\", \"Muppets_1024\", \"baby_dolls_1024\", \"pokemon_1024\", \"ponies_1024\", \"FreaGAN_1024\"]\n",
        "\n",
        "download_zip = False #@param {type:\"boolean\"}\n",
        "\n",
        "# TODO  later remove connect to drive /  use drive links to download model\n",
        "networks_urls = {\n",
        "    'ukiyoe_256':'/content/drive/My Drive/projects/StyleGan2/Models/256/ukiyoe-256-slim-diffAug-002789.pkl',\n",
        "    'ffhq_e_256':'/content/drive/My Drive/projects/StyleGan2/Models/256/ffhq-256-config-e-003810.pkl',\n",
        "    'cat_f_256':'/content/drive/My Drive/projects/StyleGan2/Models/256/stylegan2-cat-config-f.pkl',\n",
        "    'panda_256':'/content/drive/My Drive/projects/StyleGan2/Models/256/stylegan2-100-shot-panda.pkl',\n",
        "    'anime_512': '/content/drive/My Drive/projects/StyleGan2/Models/512/2020-01-11-skylion-stylegan2-animeportraits-networksnapshot-024664.pkl',\n",
        "    'CartoonsAligned_1_512':'/content/drive/My Drive/projects/StyleGan2/Models/512/FFHQ512-CartoonsAlignedHQ31v3.pkl',\n",
        "    'fursona_512':'/content/drive/My Drive/projects/StyleGan2/Models/512/network-e621-r-512-3194880.pkl',\n",
        "    'toony_b_paint_64_1024':'/content/drive/My Drive/projects/StyleGan2/Models/1024/toony_blended_64_Paint_1024.pkl',\n",
        "    'ffhq_e_104':'/content/drive/My Drive/projects/StyleGan2/Models/1024/stylegan2-ffhq-config-e.pkl',\n",
        "    'metFaces_1024':'/content/drive/My Drive/projects/StyleGan2/Models/1024/network-snapshot-metfaces2.pkl',\n",
        "    'wiki_art_1_1024':'/content/drive/My Drive/projects/StyleGan2/Models/1024/wiki_art_1_1024.pkl',\n",
        "    'wiki_art_2_1024':'/content/drive/My Drive/projects/StyleGan2/Models/1024/wiki_art_2_1024.pkl',\n",
        "    'comics_monsters_1024':'/content/drive/My Drive/projects/StyleGan2/Models/1024/drwho-comics-and-monsters-000042.pkl',\n",
        "    'baby_1024':'/content/drive/My Drive/projects/StyleGan2/Models/1024/baby-stylegan2-config-f.pkl',\n",
        "    'aBeauty_1024':'/content/drive/My Drive/projects/StyleGan2/Models/1024/asian_beauty-stylegan2-config-f.pkl',\n",
        "    'asian_1024':'/content/drive/My Drive/projects/StyleGan2/Models/1024/asian-stylegan2-config-f.pkl',\n",
        "    'ffhq_f_1024':'/content/stylegan2/trainedNetworks/stylegan2-ffhq-config-f.pkl',\n",
        "    'ffhq_b_cartoon_64_1024':'/content/drive/My Drive/projects/StyleGan2/Models/1024/toonify/ffhq-cartoon-blended-64.pkl',\n",
        "    'CartoonsAligned_36v2_1024':'/content/drive/My Drive/projects/StyleGan2/Models/1024/toonify/FFHQ-CartoonsAlignedHQ36v2.pkl',\n",
        "    'CartoonsAligned_84v3_1024':'/content/drive/My Drive/projects/StyleGan2/Models/1024/toonify/FFHQ-CartoonsAlignedHQ84v3.pkl',\n",
        "    'ChSt_1_1024':'/content/drive/My Drive/projects/StyleGan2/Models/1024/CS-snapshot-010327.pkl',\n",
        "    'WoW_Faces_1024':'/content/drive/My Drive/projects/StyleGan2/Models/1024/ffhq-WoW-Faces-000048.pkl',\n",
        "    'Muppets_1024':'/content/drive/My Drive/projects/StyleGan2/Models/1024/FFHQ-Muppets-000132.pkl',\n",
        "    'baby_dolls_1024':'/content/drive/My Drive/projects/StyleGan2/Models/1024/ffhq-a312863063-generator_baby-dolls-000024.pkl',\n",
        "    'pokemon_1024':'/content/drive/My Drive/projects/StyleGan2/Models/1024/ffhq-pokemon-000052.pkl',\n",
        "    'ponies_1024':'/content/drive/My Drive/projects/StyleGan2/Models/1024/network-ponies-1024-151552.pkl',\n",
        "    'FreaGAN_1024':'https://drive.google.com/file/d/1umM1i6x-zxgS0Psr_6hpEbqIy527r9jv/view?usp=sharing'}\n",
        "\n",
        "\n",
        "\n",
        "def generate_grid_and_Sample (name_of_net):\n",
        "  if os.path.isdir ('/content/stylegan2/results/') == False:\n",
        "    !mkdir /content/stylegan2/results/\n",
        "\n",
        "  result_dir = (f\"/content/stylegan2/results/{name_of_net}/\")\n",
        "  if os.path.isdir(result_dir) == False:\n",
        "    !mkdir $result_dir\n",
        "\n",
        "  seeds = [1,2,3,4,5,6,7,8,9] \n",
        "  result_scale = 0.25\n",
        "  zs = generate_zs_from_seeds(seeds)\n",
        "  imgs = generate_images(zs, 1.0)\n",
        "  w,h = imgs[0].size\n",
        "  canvas = PIL.Image.new('RGBA', (w,h), 'white')\n",
        "  canvas.paste(imgs[0])\n",
        "\n",
        "  grid = createImageGrid(imgs, scale=result_scale, rows=3)\n",
        "  imW, imH = grid.size\n",
        "  real_size = (imW / 3)/result_scale\n",
        "\n",
        "  canvas.save (result_dir+(f\"sample.png\"))\n",
        "  grid.save (result_dir+\"grid.png\")\n",
        "  print (f\"Sample for {name_of_net} Done!\")\n",
        "\n",
        "def run_noise_loop(pkl_path, truncation_level, output_dir):\n",
        "  temp_outputs = Path('interpolation')\n",
        "  temp_movie = temp_outputs.with_suffix(\".mp4\")\n",
        "  net_path_src = Path(pkl_path)\n",
        "  !python grid_vid.py str(pkl_path) \\\n",
        "  --truncation-psi 0.75 \\\n",
        "  --grid-size 3 3 --duration-sec 10 --smoothing-sec 1 \\\n",
        "  --output-width 768 --mp4 \"/content/stylegan2/results/toony_b_paint_64_1024/\"+$temp_movie\n",
        "\n",
        "\n",
        "if (create_one == False):\n",
        " !rm -rf /content/stylegan2/results/\n",
        " !mkdir /content/stylegan2/results/  \n",
        " for one_net_url in networks_urls:\n",
        "  pkl_url = networks_urls[one_net_url]\n",
        "  _G, _D, Gs = pretrained_networks.load_networks(pkl_url)\n",
        "  noise_vars = [var for name, var in Gs.components.synthesis.vars.items() if name.startswith('noise')]\n",
        "  generate_grid_and_Sample (one_net_url) \n",
        "else:\n",
        "  pkl_url = networks_urls[net_name]\n",
        "  _G, _D, Gs = pretrained_networks.load_networks(pkl_url)\n",
        "  noise_vars = [var for name, var in Gs.components.synthesis.vars.items() if name.startswith('noise')]\n",
        "  generate_grid_and_Sample (net_name)\n",
        "  result_dir = (f\"/content/stylegan2/results/{net_name}/\")\n",
        "  if os.path.isdir(result_dir) == False:\n",
        "    !mkdir $result_dir\n",
        "\n",
        "  run_noise_loop(pkl_url, 0.75, result_dir)\n",
        "\n",
        "\n",
        "\n",
        "if download_zip == True:\n",
        "  !rm -rf /content/stylegan2/model_samples.zip\n",
        "  !zip -r model_samples.zip /content/stylegan2/results\n",
        "  files.download(\"/content/stylegan2/model_samples.zip\")"
      ],
      "execution_count": null,
      "outputs": [
        {
          "output_type": "stream",
          "text": [
            "9it [00:01,  6.00it/s]\n"
          ],
          "name": "stderr"
        },
        {
          "output_type": "stream",
          "text": [
            "Sample for toony_b_paint_64_1024 Done!\n",
            "/bin/bash: -c: line 0: syntax error near unexpected token `('\n",
            "/bin/bash: -c: line 0: `python grid_vid.py str(pkl_path)   --truncation-psi 0.75   --grid-size 3 3 --duration-sec 10 --smoothing-sec 1   --output-width 768 --mp4 \"/content/stylegan2/results/toony_b_paint_64_1024/\"+interpolation.mp4'\n"
          ],
          "name": "stdout"
        }
      ]
    },
    {
      "cell_type": "code",
      "metadata": {
        "id": "d-JNu7NByXEX",
        "outputId": "b2e50277-f1be-4f38-edc0-138c46f3206b",
        "colab": {
          "base_uri": "https://localhost:8080/"
        }
      },
      "source": [
        "!python grid_vid.py --help"
      ],
      "execution_count": null,
      "outputs": [
        {
          "output_type": "stream",
          "text": [
            "Usage: grid_vid.py [OPTIONS] NET\n",
            "\n",
            "Arguments:\n",
            "  NET  [required]\n",
            "\n",
            "Options:\n",
            "  --mp4 PATH                      [default:\n",
            "                                  output.mp4]\n",
            "\n",
            "  --truncation-psi FLOAT          [default: 0.5]\n",
            "  --grid-size <INTEGER INTEGER>...\n",
            "                                  [default: 1, 1]\n",
            "  --duration-sec FLOAT            [default: 60.0]\n",
            "  --smoothing-sec FLOAT           [default: 1.0]\n",
            "  --mp4-fps INTEGER               [default: 30]\n",
            "  --mp4-codec TEXT                [default:\n",
            "                                  libx264]\n",
            "\n",
            "  --random-seed INTEGER           [default: 1000]\n",
            "  --minibatch-size INTEGER        [default: 8]\n",
            "  --output-width INTEGER\n",
            "  --install-completion [bash|zsh|fish|powershell|pwsh]\n",
            "                                  Install\n",
            "                                  completion for\n",
            "                                  the specified\n",
            "                                  shell.\n",
            "\n",
            "  --show-completion [bash|zsh|fish|powershell|pwsh]\n",
            "                                  Show completion\n",
            "                                  for the\n",
            "                                  specified shell,\n",
            "                                  to copy it or\n",
            "                                  customize the\n",
            "                                  installation.\n",
            "\n",
            "  --help                          Show this\n",
            "                                  message and\n",
            "                                  exit.\n"
          ],
          "name": "stdout"
        }
      ]
    },
    {
      "cell_type": "code",
      "metadata": {
        "id": "uoTo4fJdykrv",
        "outputId": "b210d584-f492-4b2d-b8a2-f3a1e9666a03",
        "colab": {
          "base_uri": "https://localhost:8080/"
        }
      },
      "source": [
        "temp_outputs = Path('interpolation')\n",
        "temp_movie = temp_outputs.with_suffix(\".mp4\")\n",
        "\n",
        "!python grid_vid.py /content/drive/My\\ Drive/projects/StyleGan2/Models/1024/toony_blended_64_Paint_1024.pkl \\\n",
        " --truncation-psi 0.75 \\\n",
        " --grid-size 3 3 --duration-sec 10 --smoothing-sec 1 \\\n",
        " --output-width 768 --mp4 \"/content/stylegan2/results/toony_b_paint_64_1024/\"+$temp_movie\n",
        "\n",
        "\n",
        "    #cmd = ['python', 'grid_vid.py', \n",
        "     #       working_dir + '/' + str(pkl_path),\n",
        "      #      '--truncation-psi', truncation, \n",
        "       #     '--grid-size', '3', '3', \n",
        "        #    '--duration-sec', '10', \n",
        "         #   '--smoothing-sec', '1',\n",
        "          #  '--output-width', str(3*256),\n",
        "           # '--mp4', working_dir + '/' + str(output_dir),]"
      ],
      "execution_count": null,
      "outputs": [
        {
          "output_type": "stream",
          "text": [
            "Setting up TensorFlow plugin \"fused_bias_act.cu\": Preprocessing... Loading... Done.\n",
            "Setting up TensorFlow plugin \"upfirdn_2d.cu\": Preprocessing... Loading... Done.\n",
            "Generating latent vectors...\n",
            "2020-11-06 23:12:13.340889: W tensorflow/core/common_runtime/bfc_allocator.cc:305] Garbage collection: deallocate free memory regions (i.e., allocations) so that we can re-allocate a larger region to avoid OOM due to memory fragmentation. If you see this message frequently, you are running near the threshold of the available device memory and re-allocation may incur great performance overhead. You may try smaller batch sizes to observe the performance impact. Set TF_ENABLE_GPU_GARBAGE_COLLECTION=false if you'd like to disable this feature.\n",
            "2020-11-06 23:12:17.895560: W tensorflow/core/common_runtime/bfc_allocator.cc:239] Allocator (GPU_0_bfc) ran out of memory trying to allocate 2.27GiB with freed_by_count=0. The caller indicates that this is not a failure, but may mean that there could be performance gains if more memory were available.\n",
            "2020-11-06 23:12:17.895633: W tensorflow/core/common_runtime/bfc_allocator.cc:239] Allocator (GPU_0_bfc) ran out of memory trying to allocate 2.27GiB with freed_by_count=0. The caller indicates that this is not a failure, but may mean that there could be performance gains if more memory were available.\n",
            "[MoviePy] >>>> Building video /content/stylegan2/results/toony_b_paint_64_1024/+temp_outputs.mp4\n",
            "[MoviePy] Writing video /content/stylegan2/results/toony_b_paint_64_1024/+temp_outputs.mp4\n",
            "100% 300/301 [01:36<00:00,  3.12it/s]\n",
            "[MoviePy] Done.\n",
            "[MoviePy] >>>> Video ready: /content/stylegan2/results/toony_b_paint_64_1024/+temp_outputs.mp4 \n",
            "\n"
          ],
          "name": "stdout"
        }
      ]
    },
    {
      "cell_type": "code",
      "metadata": {
        "id": "zMh4GlIIDHWL"
      },
      "source": [
        "# check folder space. \n",
        "!du  -sh /content/drive/My\\ Drive/projects/StyleGan2"
      ],
      "execution_count": null,
      "outputs": []
    }
  ]
}